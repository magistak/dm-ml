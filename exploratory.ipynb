{
 "cells": [
  {
   "cell_type": "code",
   "execution_count": 1,
   "metadata": {},
   "outputs": [],
   "source": [
    "import numpy as np\n",
    "import pandas as pd\n",
    "import seaborn as sns"
   ]
  },
  {
   "cell_type": "code",
   "execution_count": 5,
   "metadata": {},
   "outputs": [
    {
     "data": {
      "text/plain": [
       "<bound method NDFrame.head of             id  additions  additions_avg  additions_max  avg_play_size  \\\n",
       "0            0          0              0              0            0.0   \n",
       "1            1          0              0              0            0.0   \n",
       "2            2          0              0              0            0.0   \n",
       "3            3          0              0              0            0.0   \n",
       "4            4          0              0              0            0.0   \n",
       "...        ...        ...            ...            ...            ...   \n",
       "159085  159085          0              0              0            0.0   \n",
       "159086  159086          0              0              0            0.0   \n",
       "159087  159087          0              0              0            0.0   \n",
       "159088  159088          0              0              0            0.0   \n",
       "159089  159089          0              0              0            0.0   \n",
       "\n",
       "        avg_task_size  change_set_avg  change_set_max  code_churn_avg  \\\n",
       "0                10.0               2              27               0   \n",
       "1                 6.0               1               1               0   \n",
       "2                 4.0               2              12               0   \n",
       "3                 6.0               1               4               0   \n",
       "4                 4.0               1               2               0   \n",
       "...               ...             ...             ...             ...   \n",
       "159085            4.0               2              24               0   \n",
       "159086            6.0               3               3               0   \n",
       "159087           19.0               0               1               0   \n",
       "159088            6.0               3               6               0   \n",
       "159089            4.0               4               6               0   \n",
       "\n",
       "        code_churn_count  ...  delta_num_prompts  delta_num_regex  \\\n",
       "0                      0  ...           0.000000         0.000000   \n",
       "1                      0  ...           0.000000         0.000000   \n",
       "2                      0  ...           0.000000         0.000000   \n",
       "3                      0  ...           0.000000         0.000000   \n",
       "4                      0  ...           0.000000         0.000000   \n",
       "...                  ...  ...                ...              ...   \n",
       "159085                 0  ...           0.000000         0.000000   \n",
       "159086                 0  ...           0.000135         0.000467   \n",
       "159087                 0  ...           0.000000         0.000000   \n",
       "159088                 0  ...           0.000000         0.000000   \n",
       "159089                 0  ...           0.000000         0.000000   \n",
       "\n",
       "        delta_num_roles  delta_num_suspicious_comments  delta_num_tasks  \\\n",
       "0              0.000000                       0.000000         0.000000   \n",
       "1              0.000000                       0.000000         0.000000   \n",
       "2              0.000000                       0.000000         0.000000   \n",
       "3              0.000000                       0.000000         0.000000   \n",
       "4              0.000000                       0.000000         0.000000   \n",
       "...                 ...                            ...              ...   \n",
       "159085         0.000000                       0.000000         0.000000   \n",
       "159086        -0.000462                      -0.000019         0.011417   \n",
       "159087         0.000000                       0.000000         0.000000   \n",
       "159088         0.000000                       0.000000         0.000000   \n",
       "159089         0.000000                       0.000000         0.000000   \n",
       "\n",
       "        delta_num_tokens  delta_num_unique_names  delta_num_uri  \\\n",
       "0               0.000000                0.000000       0.000000   \n",
       "1               0.000000                0.000000       0.000000   \n",
       "2               0.000000                0.000000       0.000000   \n",
       "3               0.000000                0.000000       0.000000   \n",
       "4               0.000000                0.000000       0.000000   \n",
       "...                  ...                     ...            ...   \n",
       "159085          0.000000                0.000000       0.000000   \n",
       "159086          0.653582                0.021948       0.000107   \n",
       "159087          0.000000                0.000000       0.000000   \n",
       "159088          0.000000                0.000000       0.000000   \n",
       "159089          0.000000                0.000000       0.000000   \n",
       "\n",
       "        delta_num_vars  delta_text_entropy  \n",
       "0             0.000000            0.000000  \n",
       "1             0.000000            0.000000  \n",
       "2             0.000000            0.000000  \n",
       "3             0.000000            0.000000  \n",
       "4             0.000000            0.000000  \n",
       "...                ...                 ...  \n",
       "159085        0.000000            0.000000  \n",
       "159086        0.005396            0.003954  \n",
       "159087        0.000000            0.000000  \n",
       "159088        0.000000            0.000000  \n",
       "159089        0.000000            0.000000  \n",
       "\n",
       "[159090 rows x 109 columns]>"
      ]
     },
     "execution_count": 5,
     "metadata": {},
     "output_type": "execute_result"
    }
   ],
   "source": [
    "X_train=pd.read_csv(\"X_train.csv\")\n",
    "y_train=pd.read_csv(\"y_train.csv\")\n",
    "X_train.head"
   ]
  },
  {
   "cell_type": "markdown",
   "metadata": {},
   "source": [
    "Let's explore the features. Distinguish the categorical and continous features."
   ]
  },
  {
   "cell_type": "code",
   "execution_count": 6,
   "metadata": {},
   "outputs": [
    {
     "ename": "TypeError",
     "evalue": "bad operand type for unary -: 'builtin_function_or_method'",
     "output_type": "error",
     "traceback": [
      "\u001b[0;31m---------------------------------------------------------------------------\u001b[0m",
      "\u001b[0;31mTypeError\u001b[0m                                 Traceback (most recent call last)",
      "Cell \u001b[0;32mIn[6], line 1\u001b[0m\n\u001b[0;32m----> 1\u001b[0m X_train[:\u001b[38;5;241;43m-\u001b[39;49m\u001b[38;5;28;43mid\u001b[39;49m]\n",
      "\u001b[0;31mTypeError\u001b[0m: bad operand type for unary -: 'builtin_function_or_method'"
     ]
    }
   ],
   "source": [
    "X_train[:-id]"
   ]
  }
 ],
 "metadata": {
  "kernelspec": {
   "display_name": "summer2024",
   "language": "python",
   "name": "python3"
  },
  "language_info": {
   "codemirror_mode": {
    "name": "ipython",
    "version": 3
   },
   "file_extension": ".py",
   "mimetype": "text/x-python",
   "name": "python",
   "nbconvert_exporter": "python",
   "pygments_lexer": "ipython3",
   "version": "3.10.14"
  }
 },
 "nbformat": 4,
 "nbformat_minor": 2
}
